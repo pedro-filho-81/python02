{
 "cells": [
  {
   "cell_type": "markdown",
   "id": "a5da8a33",
   "metadata": {},
   "source": [
    "# Modulo time\n",
    "\n",
    "### Estrutura: Um dos módulos mais usados no Python para trabalhar com datas, fazer o programa esperar algum tempo"
   ]
  },
  {
   "cell_type": "raw",
   "id": "ae1cb34c",
   "metadata": {},
   "source": [
    "import time"
   ]
  },
  {
   "cell_type": "code",
   "execution_count": 3,
   "id": "6a593b43",
   "metadata": {
    "scrolled": true
   },
   "outputs": [
    {
     "data": {
      "text/plain": [
       "'pt_BR.UTF-8'"
      ]
     },
     "execution_count": 3,
     "metadata": {},
     "output_type": "execute_result"
    }
   ],
   "source": [
    "import time\n",
    "import locale\n",
    "locale.setlocale(locale.LC_ALL, 'pt_BR.UTF-8')"
   ]
  },
  {
   "cell_type": "markdown",
   "id": "5f16c8a5",
   "metadata": {},
   "source": [
    "- Marco Zero: EPOCH (01 de janeiro de 1970 às 00:00:00)\n",
    "- time() retorna quantos segundos se passaram desde a EPOCH"
   ]
  },
  {
   "cell_type": "code",
   "execution_count": 5,
   "id": "77b050ec",
   "metadata": {
    "scrolled": true
   },
   "outputs": [
    {
     "name": "stdout",
     "output_type": "stream",
     "text": [
      "Segundos passados de 01/01/1970 às 00:00:00 até hoje: \n",
      "\tsegundos = 1750856175.4307158\n"
     ]
    }
   ],
   "source": [
    "# a função time() mostra o valor em segundos que se passaram\n",
    "# desde (01 de janeiro de 1970 às 00:00:00)\n",
    "# até a data de hoje (seja hoje quando for)\n",
    "segundos_ate_hoje = time.time()\n",
    "print(f'Segundos passados de 01/01/1970 às 00:00:00 até hoje: \\n\\tsegundos = {segundos_ate_hoje}')"
   ]
  },
  {
   "cell_type": "markdown",
   "id": "8e8f070f",
   "metadata": {},
   "source": [
    "- ctime() retorna a data em string"
   ]
  },
  {
   "cell_type": "code",
   "execution_count": 7,
   "id": "20e97c7f",
   "metadata": {
    "scrolled": true
   },
   "outputs": [
    {
     "name": "stdout",
     "output_type": "stream",
     "text": [
      "Wed Jun 25 09:56:26 2025\n"
     ]
    }
   ],
   "source": [
    "data_hoje = time.ctime()\n",
    "print(data_hoje)"
   ]
  },
  {
   "cell_type": "markdown",
   "id": "426cf932",
   "metadata": {},
   "source": [
    "Isso já pode ser muito útil para medir o tempo que um código leva para rodar"
   ]
  },
  {
   "cell_type": "code",
   "execution_count": 9,
   "id": "77386fd4",
   "metadata": {
    "scrolled": true
   },
   "outputs": [
    {
     "name": "stdout",
     "output_type": "stream",
     "text": [
      "O programa levou 4.733141183853149 segundos para rodar\n"
     ]
    }
   ],
   "source": [
    "tempo_inicial = time.time()\n",
    "for i in range(100000000):\n",
    "    pass\n",
    "tempo_final = time.time()\n",
    "duracao = tempo_final - tempo_inicial\n",
    "print(\"O programa levou {} segundos para rodar\".format(duracao))"
   ]
  },
  {
   "cell_type": "markdown",
   "id": "f65e18c7",
   "metadata": {},
   "source": [
    "Fazer o programa esperar alguns segundos (muito útil quando temos que esperar um programa ou uma página carregar)"
   ]
  },
  {
   "cell_type": "code",
   "execution_count": 11,
   "id": "b8ab981d",
   "metadata": {
    "scrolled": true
   },
   "outputs": [
    {
     "name": "stdout",
     "output_type": "stream",
     "text": [
      "Começando\n",
      "Rodou 5 segundos após\n"
     ]
    }
   ],
   "source": [
    "print(\"Começando\")\n",
    "time.sleep(5)\n",
    "print(\"Rodou 5 segundos após\")"
   ]
  },
  {
   "cell_type": "markdown",
   "id": "25ec9489",
   "metadata": {},
   "source": [
    "Pegar informações de dias, hora, minuto, segundo, tudo detalhado:\n",
    "- gmtime()\n",
    "- localtime()"
   ]
  },
  {
   "cell_type": "code",
   "execution_count": 13,
   "id": "5e366342",
   "metadata": {
    "scrolled": true
   },
   "outputs": [
    {
     "name": "stdout",
     "output_type": "stream",
     "text": [
      "time.struct_time(tm_year=2025, tm_mon=6, tm_mday=25, tm_hour=12, tm_min=57, tm_sec=56, tm_wday=2, tm_yday=176, tm_isdst=0)\n",
      "time.struct_time(tm_year=2025, tm_mon=6, tm_mday=25, tm_hour=9, tm_min=57, tm_sec=56, tm_wday=2, tm_yday=176, tm_isdst=0)\n"
     ]
    }
   ],
   "source": [
    "hora_geral = time.gmtime()\n",
    "hora_local = time.localtime()\n",
    "print(hora_geral)\n",
    "print(hora_local)"
   ]
  },
  {
   "cell_type": "markdown",
   "id": "adc358f4",
   "metadata": {},
   "source": [
    "Qualquer struct_time permite você pegar as informações da data fazendo:\n",
    "- gmtime().parametro\n",
    "- localtime().parametro"
   ]
  },
  {
   "cell_type": "code",
   "execution_count": 16,
   "id": "31e7c136",
   "metadata": {
    "scrolled": true
   },
   "outputs": [
    {
     "name": "stdout",
     "output_type": "stream",
     "text": [
      "Data: 25/6/2025\n",
      "Data: 25/6/2025\n"
     ]
    }
   ],
   "source": [
    "dia = hora_local.tm_mday\n",
    "mes = hora_local.tm_mon\n",
    "ano = hora_local.tm_year\n",
    "dia_da_semana = hora_local.tm_wday\n",
    "\n",
    "print(\"Data: {}/{}/{}\".format(dia, mes, ano))\n",
    "print(f\"Data: {dia}/{mes}/{ano}\")"
   ]
  },
  {
   "cell_type": "markdown",
   "id": "d3685ea0",
   "metadata": {},
   "source": [
    "Mais detalhes e mais exercícios nas próximas aulas\n",
    "\n",
    "Mais bibliotecas novas nos próximos módulos"
   ]
  },
  {
   "cell_type": "code",
   "execution_count": null,
   "id": "ba756a4a-9d7c-491d-ae55-6e585b0d0113",
   "metadata": {},
   "outputs": [],
   "source": []
  },
  {
   "cell_type": "code",
   "execution_count": null,
   "id": "ac0c9ed4-77fe-42e9-b662-32671c26004c",
   "metadata": {},
   "outputs": [],
   "source": []
  },
  {
   "cell_type": "code",
   "execution_count": null,
   "id": "121b6e87-87a0-4148-b05c-3b41b51a3e8f",
   "metadata": {},
   "outputs": [],
   "source": []
  }
 ],
 "metadata": {
  "kernelspec": {
   "display_name": "Python 3 (ipykernel)",
   "language": "python",
   "name": "python3"
  },
  "language_info": {
   "codemirror_mode": {
    "name": "ipython",
    "version": 3
   },
   "file_extension": ".py",
   "mimetype": "text/x-python",
   "name": "python",
   "nbconvert_exporter": "python",
   "pygments_lexer": "ipython3",
   "version": "3.12.7"
  }
 },
 "nbformat": 4,
 "nbformat_minor": 5
}
